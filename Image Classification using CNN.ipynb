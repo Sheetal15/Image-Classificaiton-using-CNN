{
 "cells": [
  {
   "cell_type": "code",
   "execution_count": 1,
   "metadata": {},
   "outputs": [
    {
     "name": "stderr",
     "output_type": "stream",
     "text": [
      "Using TensorFlow backend.\n"
     ]
    }
   ],
   "source": [
    "#Importing the keras libraries and packages\n",
    "\n",
    "from keras.models import Sequential  \n",
    "#Sequential package - to initialse the neural network. \n",
    "\n",
    "from keras.layers import Convolution2D \n",
    "#package we use to make convolutional layers. Since images are in 2D, we use convolution 2D\n",
    "\n",
    "from keras.layers import MaxPooling2D\n",
    "#To proceed to pooling step2\n",
    "\n",
    "from keras.layers import Flatten\n",
    "#to proceed to step3\n",
    "\n",
    "from keras.layers import Dense\n",
    "#we use it to add the fully connected layers to a ANN"
   ]
  },
  {
   "cell_type": "code",
   "execution_count": 2,
   "metadata": {},
   "outputs": [],
   "source": [
    "# Initialising the CNN\n",
    "classifier = Sequential() # an object of the sequential class"
   ]
  },
  {
   "cell_type": "code",
   "execution_count": 3,
   "metadata": {},
   "outputs": [
    {
     "name": "stdout",
     "output_type": "stream",
     "text": [
      "WARNING:tensorflow:From E:\\Anaconda\\lib\\site-packages\\tensorflow\\python\\framework\\op_def_library.py:263: colocate_with (from tensorflow.python.framework.ops) is deprecated and will be removed in a future version.\n",
      "Instructions for updating:\n",
      "Colocations handled automatically by placer.\n"
     ]
    },
    {
     "name": "stderr",
     "output_type": "stream",
     "text": [
      "E:\\Anaconda\\lib\\site-packages\\ipykernel_launcher.py:2: UserWarning: Update your `Conv2D` call to the Keras 2 API: `Conv2D(32, (3, 3), input_shape=(64, 64, 3..., activation=\"relu\")`\n",
      "  \n"
     ]
    }
   ],
   "source": [
    "# Step 1 - Convolution : Adding the first layer - Convolutional layer with the feature maps\n",
    "classifier.add(Convolution2D(32, 3, 3, input_shape = (64, 64, 3), activation = 'relu'))\n"
   ]
  },
  {
   "cell_type": "code",
   "execution_count": 4,
   "metadata": {},
   "outputs": [],
   "source": [
    "# Step 2 - Pooling \n",
    "\n",
    "classifier.add(MaxPooling2D(pool_size = (2, 2)))\n"
   ]
  },
  {
   "cell_type": "code",
   "execution_count": 5,
   "metadata": {
    "collapsed": true
   },
   "outputs": [
    {
     "name": "stderr",
     "output_type": "stream",
     "text": [
      "E:\\Anaconda\\lib\\site-packages\\ipykernel_launcher.py:3: UserWarning: Update your `Conv2D` call to the Keras 2 API: `Conv2D(32, (3, 3), activation=\"relu\")`\n",
      "  This is separate from the ipykernel package so we can avoid doing imports until\n"
     ]
    }
   ],
   "source": [
    "#Adding a second convolutional layer and a pooling layer inorder to improve accuracy and reduce the difference between the \n",
    "#acuracy on training and test set\n",
    "classifier.add(Convolution2D(32, 3, 3, activation = 'relu'))\n",
    "classifier.add(MaxPooling2D(pool_size = (2, 2)))\n"
   ]
  },
  {
   "cell_type": "code",
   "execution_count": 6,
   "metadata": {
    "collapsed": true
   },
   "outputs": [
    {
     "name": "stderr",
     "output_type": "stream",
     "text": [
      "E:\\Anaconda\\lib\\site-packages\\ipykernel_launcher.py:2: UserWarning: Update your `Conv2D` call to the Keras 2 API: `Conv2D(32, (3, 3), activation=\"relu\")`\n",
      "  \n",
      "E:\\Anaconda\\lib\\site-packages\\ipykernel_launcher.py:5: UserWarning: Update your `Conv2D` call to the Keras 2 API: `Conv2D(32, (3, 3), activation=\"relu\")`\n",
      "  \"\"\"\n"
     ]
    }
   ],
   "source": [
    "# Adding a third and fourth convolutional layer\n",
    "classifier.add(Convolution2D(32, 3, 3, activation = 'relu'))\n",
    "classifier.add(MaxPooling2D(pool_size = (2, 2)))\n",
    "\n",
    "classifier.add(Convolution2D(32, 3, 3, activation = 'relu'))\n",
    "classifier.add(MaxPooling2D(pool_size = (2, 2)))"
   ]
  },
  {
   "cell_type": "code",
   "execution_count": 7,
   "metadata": {},
   "outputs": [],
   "source": [
    "# Step 3 - Flattenin\n",
    "classifier.add(Flatten())"
   ]
  },
  {
   "cell_type": "code",
   "execution_count": 8,
   "metadata": {
    "collapsed": true
   },
   "outputs": [
    {
     "name": "stderr",
     "output_type": "stream",
     "text": [
      "E:\\Anaconda\\lib\\site-packages\\ipykernel_launcher.py:7: UserWarning: Update your `Dense` call to the Keras 2 API: `Dense(activation=\"relu\", units=128)`\n",
      "  import sys\n",
      "E:\\Anaconda\\lib\\site-packages\\ipykernel_launcher.py:19: UserWarning: Update your `Dense` call to the Keras 2 API: `Dense(activation=\"sigmoid\", units=1)`\n"
     ]
    }
   ],
   "source": [
    "# Step 4 - Full connection\n",
    "#Making an ANN and fully connected layers\n",
    "\n",
    "classifier.add(Dense(output_dim = 128, activation = 'relu')) \n",
    "#Creating a hidden layer ie. creating the fully connected layer\n",
    "\n",
    "classifier.add(Dense(output_dim = 1, activation = 'sigmoid'))\n",
    "#Adding the output layer"
   ]
  },
  {
   "cell_type": "code",
   "execution_count": 10,
   "metadata": {},
   "outputs": [],
   "source": [
    "# Compiling the CNN\n",
    "\n",
    "classifier.compile(optimizer = 'adam', loss = 'binary_crossentropy', metrics = ['accuracy'])"
   ]
  },
  {
   "cell_type": "code",
   "execution_count": 11,
   "metadata": {},
   "outputs": [],
   "source": [
    "# Part 2 - Fitting the CNN to the images\n",
    "\n",
    "from keras.preprocessing.image import ImageDataGenerator\n",
    "\n",
    "train_datagen = ImageDataGenerator(rescale = 1./255,\n",
    "                                   shear_range = 0.2,\n",
    "                                   zoom_range = 0.2,\n",
    "                                   horizontal_flip = True)"
   ]
  },
  {
   "cell_type": "code",
   "execution_count": 12,
   "metadata": {},
   "outputs": [],
   "source": [
    "test_datagen = ImageDataGenerator(rescale = 1./255)"
   ]
  },
  {
   "cell_type": "code",
   "execution_count": 13,
   "metadata": {},
   "outputs": [
    {
     "name": "stdout",
     "output_type": "stream",
     "text": [
      "Found 8000 images belonging to 2 classes.\n"
     ]
    }
   ],
   "source": [
    "training_set = train_datagen.flow_from_directory('training_set',\n",
    "                                                 target_size = (64, 64),\n",
    "                                                 batch_size = 32,\n",
    "                                                 class_mode = 'binary')"
   ]
  },
  {
   "cell_type": "code",
   "execution_count": 15,
   "metadata": {},
   "outputs": [
    {
     "name": "stdout",
     "output_type": "stream",
     "text": [
      "Found 2000 images belonging to 2 classes.\n"
     ]
    }
   ],
   "source": [
    "test_set = test_datagen.flow_from_directory('test_set',\n",
    "                                            target_size = (64, 64),\n",
    "                                            batch_size = 32,\n",
    "                                            class_mode = 'binary')"
   ]
  },
  {
   "cell_type": "code",
   "execution_count": 16,
   "metadata": {
    "scrolled": true
   },
   "outputs": [
    {
     "name": "stdout",
     "output_type": "stream",
     "text": [
      "WARNING:tensorflow:From E:\\Anaconda\\lib\\site-packages\\tensorflow\\python\\ops\\math_ops.py:3066: to_int32 (from tensorflow.python.ops.math_ops) is deprecated and will be removed in a future version.\n",
      "Instructions for updating:\n",
      "Use tf.cast instead.\n"
     ]
    },
    {
     "name": "stderr",
     "output_type": "stream",
     "text": [
      "E:\\Anaconda\\lib\\site-packages\\ipykernel_launcher.py:6: UserWarning: The semantics of the Keras 2 argument `steps_per_epoch` is not the same as the Keras 1 argument `samples_per_epoch`. `steps_per_epoch` is the number of batches to draw from the generator at each epoch. Basically steps_per_epoch = samples_per_epoch/batch_size. Similarly `nb_val_samples`->`validation_steps` and `val_samples`->`steps` arguments have changed. Update your method calls accordingly.\n",
      "  \n",
      "E:\\Anaconda\\lib\\site-packages\\ipykernel_launcher.py:6: UserWarning: Update your `fit_generator` call to the Keras 2 API: `fit_generator(<keras_pre..., validation_data=<keras_pre..., steps_per_epoch=250, epochs=25, validation_steps=2000)`\n",
      "  \n"
     ]
    },
    {
     "name": "stdout",
     "output_type": "stream",
     "text": [
      "Epoch 1/25\n",
      "250/250 [==============================] - 602s 2s/step - loss: 0.6841 - acc: 0.5450 - val_loss: 0.6728 - val_acc: 0.5729\n",
      "Epoch 2/25\n",
      "250/250 [==============================] - 516s 2s/step - loss: 0.6345 - acc: 0.6415 - val_loss: 0.6001 - val_acc: 0.6881\n",
      "Epoch 3/25\n",
      "250/250 [==============================] - 536s 2s/step - loss: 0.5857 - acc: 0.6900 - val_loss: 0.5801 - val_acc: 0.6998\n",
      "Epoch 4/25\n",
      "250/250 [==============================] - 552s 2s/step - loss: 0.5494 - acc: 0.7179 - val_loss: 0.5946 - val_acc: 0.6827\n",
      "Epoch 5/25\n",
      "250/250 [==============================] - 521s 2s/step - loss: 0.5233 - acc: 0.7353 - val_loss: 0.5004 - val_acc: 0.7564\n",
      "Epoch 6/25\n",
      "250/250 [==============================] - 550s 2s/step - loss: 0.4967 - acc: 0.7544 - val_loss: 0.4907 - val_acc: 0.7578\n",
      "Epoch 7/25\n",
      "250/250 [==============================] - 536s 2s/step - loss: 0.4755 - acc: 0.7710 - val_loss: 0.4669 - val_acc: 0.7857\n",
      "Epoch 8/25\n",
      "250/250 [==============================] - 545s 2s/step - loss: 0.4613 - acc: 0.7834 - val_loss: 0.5073 - val_acc: 0.7588\n",
      "Epoch 9/25\n",
      "250/250 [==============================] - 526s 2s/step - loss: 0.4456 - acc: 0.7905 - val_loss: 0.5170 - val_acc: 0.7392\n",
      "Epoch 10/25\n",
      "250/250 [==============================] - 556s 2s/step - loss: 0.4281 - acc: 0.8039 - val_loss: 0.4332 - val_acc: 0.8008\n",
      "Epoch 11/25\n",
      "250/250 [==============================] - 822s 3s/step - loss: 0.4201 - acc: 0.8046 - val_loss: 0.4043 - val_acc: 0.8113\n",
      "Epoch 12/25\n",
      "250/250 [==============================] - 551s 2s/step - loss: 0.4080 - acc: 0.8145 - val_loss: 0.4363 - val_acc: 0.7964\n",
      "Epoch 13/25\n",
      "250/250 [==============================] - 542s 2s/step - loss: 0.4008 - acc: 0.8135 - val_loss: 0.4061 - val_acc: 0.8092\n",
      "Epoch 14/25\n",
      "250/250 [==============================] - 3212s 13s/step - loss: 0.3803 - acc: 0.8270 - val_loss: 0.4078 - val_acc: 0.8272\n",
      "Epoch 15/25\n",
      "250/250 [==============================] - 685s 3s/step - loss: 0.3718 - acc: 0.8348 - val_loss: 0.4077 - val_acc: 0.8105\n",
      "Epoch 16/25\n",
      "250/250 [==============================] - 588s 2s/step - loss: 0.3679 - acc: 0.8329 - val_loss: 0.3940 - val_acc: 0.8288\n",
      "Epoch 17/25\n",
      "250/250 [==============================] - 590s 2s/step - loss: 0.3621 - acc: 0.8381 - val_loss: 0.3746 - val_acc: 0.8360\n",
      "Epoch 18/25\n",
      "250/250 [==============================] - 591s 2s/step - loss: 0.3553 - acc: 0.8409 - val_loss: 0.3862 - val_acc: 0.8287\n",
      "Epoch 19/25\n",
      "250/250 [==============================] - 744s 3s/step - loss: 0.3458 - acc: 0.8429 - val_loss: 0.3763 - val_acc: 0.8384\n",
      "Epoch 20/25\n",
      "250/250 [==============================] - 619s 2s/step - loss: 0.3378 - acc: 0.8484 - val_loss: 0.3781 - val_acc: 0.8396\n",
      "Epoch 21/25\n",
      "250/250 [==============================] - 565s 2s/step - loss: 0.3251 - acc: 0.8546 - val_loss: 0.3550 - val_acc: 0.8413\n",
      "Epoch 22/25\n",
      "250/250 [==============================] - 556s 2s/step - loss: 0.3256 - acc: 0.8571 - val_loss: 0.3729 - val_acc: 0.8380\n",
      "Epoch 23/25\n",
      "250/250 [==============================] - 612s 2s/step - loss: 0.3089 - acc: 0.8611 - val_loss: 0.3982 - val_acc: 0.8221\n",
      "Epoch 24/25\n",
      "250/250 [==============================] - 667s 3s/step - loss: 0.3215 - acc: 0.8554 - val_loss: 0.4158 - val_acc: 0.8235\n",
      "Epoch 25/25\n",
      "250/250 [==============================] - 582s 2s/step - loss: 0.3082 - acc: 0.8666 - val_loss: 0.3701 - val_acc: 0.8402\n"
     ]
    },
    {
     "data": {
      "text/plain": [
       "<keras.callbacks.History at 0x1c84b58dcc0>"
      ]
     },
     "execution_count": 16,
     "metadata": {},
     "output_type": "execute_result"
    }
   ],
   "source": [
    "#classifier is the CNN model\n",
    "classifier.fit_generator(training_set,\n",
    "                         samples_per_epoch = 8000,\n",
    "                         nb_epoch = 25,\n",
    "                         validation_data = test_set,\n",
    "                         nb_val_samples = 2000)"
   ]
  },
  {
   "cell_type": "code",
   "execution_count": 24,
   "metadata": {},
   "outputs": [
    {
     "name": "stdout",
     "output_type": "stream",
     "text": [
      "cat\n"
     ]
    }
   ],
   "source": [
    "import numpy as np\n",
    "from keras.preprocessing import image\n",
    "test_image = image.load_img('test_set/cats/cat.4015.jpg', target_size = (64, 64))\n",
    "test_image = image.img_to_array(test_image)\n",
    "test_image = np.expand_dims(test_image, axis = 0)\n",
    "result = classifier.predict(test_image)\n",
    "training_set.class_indices\n",
    "if result[0][0] == 1:\n",
    "    prediction = 'dog'\n",
    "else:\n",
    "    prediction = 'cat'\n",
    "print(prediction)    "
   ]
  }
 ],
 "metadata": {
  "kernelspec": {
   "display_name": "Python 3",
   "language": "python",
   "name": "python3"
  },
  "language_info": {
   "codemirror_mode": {
    "name": "ipython",
    "version": 3
   },
   "file_extension": ".py",
   "mimetype": "text/x-python",
   "name": "python",
   "nbconvert_exporter": "python",
   "pygments_lexer": "ipython3",
   "version": "3.7.1"
  }
 },
 "nbformat": 4,
 "nbformat_minor": 2
}
